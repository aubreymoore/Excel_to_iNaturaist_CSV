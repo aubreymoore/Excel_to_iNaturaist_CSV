{
 "cells": [
  {
   "cell_type": "markdown",
   "metadata": {},
   "source": [
    "# Extracting Data from Excel Spreadsheets into a CSV for Upload to iNaturalist \n",
    "Dr. Joel Miles, Palau Invasive Species Coordinator, has been storing data from a Palau Invasive Plant survey as spreadsheets in an Excel Workbook. \n",
    "As a technical challenge, I wrote this iPython notebook to wrangle the data into a CSV for ingestion by iNaturalist."
   ]
  },
  {
   "cell_type": "code",
   "execution_count": 1,
   "metadata": {
    "collapsed": false
   },
   "outputs": [],
   "source": [
    "import pandas as pd\n",
    "pd.set_option(\"display.max_rows\",4)"
   ]
  },
  {
   "cell_type": "markdown",
   "metadata": {},
   "source": [
    "### Grab the fields we want from each spreadsheet and store in a dataframe"
   ]
  },
  {
   "cell_type": "code",
   "execution_count": 2,
   "metadata": {
    "collapsed": false
   },
   "outputs": [
    {
     "data": {
      "text/html": [
       "<div>\n",
       "<table border=\"1\" class=\"dataframe\">\n",
       "  <thead>\n",
       "    <tr style=\"text-align: right;\">\n",
       "      <th></th>\n",
       "      <th>Date</th>\n",
       "      <th>Latitude</th>\n",
       "      <th>Longitude</th>\n",
       "      <th>Place name</th>\n",
       "      <th>Plant Code</th>\n",
       "    </tr>\n",
       "  </thead>\n",
       "  <tbody>\n",
       "    <tr>\n",
       "      <th>0</th>\n",
       "      <td>2015-10-14 00:00:00</td>\n",
       "      <td>134 33.063</td>\n",
       "      <td>7 20.439</td>\n",
       "      <td>Airai, Palau</td>\n",
       "      <td>None</td>\n",
       "    </tr>\n",
       "    <tr>\n",
       "      <th>1</th>\n",
       "      <td>2015-10-14 00:00:00</td>\n",
       "      <td>134 33.938</td>\n",
       "      <td>7 20.501</td>\n",
       "      <td>Airai, Palau</td>\n",
       "      <td>None</td>\n",
       "    </tr>\n",
       "    <tr>\n",
       "      <th>...</th>\n",
       "      <td>...</td>\n",
       "      <td>...</td>\n",
       "      <td>...</td>\n",
       "      <td>...</td>\n",
       "      <td>...</td>\n",
       "    </tr>\n",
       "    <tr>\n",
       "      <th>393</th>\n",
       "      <td>2015-10-07 00:00:00</td>\n",
       "      <td>134 35.23</td>\n",
       "      <td>7 29.2</td>\n",
       "      <td>Taki, Palau</td>\n",
       "      <td>AruGra</td>\n",
       "    </tr>\n",
       "    <tr>\n",
       "      <th>394</th>\n",
       "      <td>2015-10-07 00:00:00</td>\n",
       "      <td>134 35.30</td>\n",
       "      <td>7 29.049</td>\n",
       "      <td>Taki, Palau</td>\n",
       "      <td>ChrOdo</td>\n",
       "    </tr>\n",
       "  </tbody>\n",
       "</table>\n",
       "<p>395 rows × 5 columns</p>\n",
       "</div>"
      ],
      "text/plain": [
       "                    Date    Latitude Longitude    Place name Plant Code\n",
       "0    2015-10-14 00:00:00  134 33.063  7 20.439  Airai, Palau       None\n",
       "1    2015-10-14 00:00:00  134 33.938  7 20.501  Airai, Palau       None\n",
       "..                   ...         ...       ...           ...        ...\n",
       "393  2015-10-07 00:00:00   134 35.23    7 29.2   Taki, Palau     AruGra\n",
       "394  2015-10-07 00:00:00   134 35.30  7 29.049   Taki, Palau     ChrOdo\n",
       "\n",
       "[395 rows x 5 columns]"
      ]
     },
     "execution_count": 2,
     "metadata": {},
     "output_type": "execute_result"
    }
   ],
   "source": [
    "df = pd.DataFrame(columns=['Place name', 'Plant Code', 'Longitude', 'Latitude'])\n",
    "\n",
    "xls = pd.ExcelFile('PAN Workbook for Data Management v4.xlsx')\n",
    "for sheet_name in xls.sheet_names:\n",
    "    df1 = xls.parse(sheet_name, header=1)\n",
    "    df1 = df1[['Date', 'Plant Code', 'Longitude', 'Latitude']]\n",
    "    df1['Place name'] = '{}, Palau'.format(sheet_name)\n",
    "    df = df.append(df1, ignore_index=True)\n",
    "df"
   ]
  },
  {
   "cell_type": "markdown",
   "metadata": {},
   "source": [
    "### Remove unnecessary rows (those without a Plant Code)"
   ]
  },
  {
   "cell_type": "code",
   "execution_count": 3,
   "metadata": {
    "collapsed": false
   },
   "outputs": [],
   "source": [
    "df = df[pd.notnull(df['Plant Code'])] # Remove rows where Plant Code is blank (null)\n",
    "df = df[df['Plant Code'] != 'None']   # Remove rows where Plant Code is 'None'\n",
    "#df"
   ]
  },
  {
   "cell_type": "markdown",
   "metadata": {},
   "source": [
    "### Remove rows with bad data"
   ]
  },
  {
   "cell_type": "code",
   "execution_count": 4,
   "metadata": {
    "collapsed": false
   },
   "outputs": [],
   "source": [
    "df.dropna(inplace=True)                       # Delete rows where any field is empty\n",
    "#df"
   ]
  },
  {
   "cell_type": "markdown",
   "metadata": {},
   "source": [
    "### Swap column headers for Latitude and Longitude\n",
    "The columns for latitude and longitude are mislabeled in the original spreadsheet,"
   ]
  },
  {
   "cell_type": "code",
   "execution_count": 5,
   "metadata": {
    "collapsed": false
   },
   "outputs": [],
   "source": [
    "df = df.rename(columns = {'Longitude': 'x'})\n",
    "df = df.rename(columns = {'Latitude': 'Longitude'})\n",
    "df = df.rename(columns = {'x': 'Latitude'})\n",
    "#df"
   ]
  },
  {
   "cell_type": "markdown",
   "metadata": {},
   "source": [
    "### Convert GPS coordinates to decimal degrees"
   ]
  },
  {
   "cell_type": "code",
   "execution_count": 6,
   "metadata": {
    "collapsed": false
   },
   "outputs": [],
   "source": [
    "def decimal_degrees(s):\n",
    "    splt = s.split()\n",
    "    degrees = int(splt[0])\n",
    "    minutes = float(splt[1])\n",
    "    return degrees + minutes / 60.0\n",
    "\n",
    "for index, row in df.iterrows():\n",
    "    dd_longitude = decimal_degrees(row['Longitude'])\n",
    "    df.set_value(index, 'Longitude', dd_longitude)\n",
    "    dd_latitude = decimal_degrees(row['Latitude'])\n",
    "    df.set_value(index, 'Latitude', dd_latitude)"
   ]
  },
  {
   "cell_type": "markdown",
   "metadata": {},
   "source": [
    "### Convert plant codes to upper case and list unique values"
   ]
  },
  {
   "cell_type": "code",
   "execution_count": 7,
   "metadata": {
    "collapsed": false
   },
   "outputs": [
    {
     "data": {
      "text/plain": [
       "['ACAAUR',\n",
       " 'ADEPAV',\n",
       " 'ALLCAT',\n",
       " 'ARUDON',\n",
       " 'ARUGRA',\n",
       " 'BIDALB',\n",
       " 'BOUNDARY',\n",
       " 'CENPOL',\n",
       " 'CENPUR',\n",
       " 'CHANIC',\n",
       " 'CHRODO',\n",
       " 'CLIHIR',\n",
       " 'DESINC',\n",
       " 'DIESEG',\n",
       " 'EPIPIN',\n",
       " 'FALMOL',\n",
       " 'HYPCAP',\n",
       " 'IMPCON',\n",
       " 'LANCAM',\n",
       " 'LEULEU',\n",
       " 'MACATR',\n",
       " 'MEGMAX',\n",
       " 'MIKMIC',\n",
       " 'MIMPUD',\n",
       " 'MUNCAL',\n",
       " 'NENENG',\n",
       " \"NENENG'S UNCLE\",\n",
       " 'RATS TAIL',\n",
       " 'RATTAN',\n",
       " 'SACSPO',\n",
       " 'SESCAN',\n",
       " 'SORHAL',\n",
       " 'SPHTRI',\n",
       " 'STACAY',\n",
       " 'STAJAM',\n",
       " 'SURATO',\n",
       " 'THUGRA',\n",
       " 'TRASPA',\n",
       " 'TURSUB',\n",
       " 'UNKNOWN']"
      ]
     },
     "execution_count": 7,
     "metadata": {},
     "output_type": "execute_result"
    }
   ],
   "source": [
    "df['Plant Code'] = df['Plant Code'].str.upper()\n",
    "sorted(df['Plant Code'].unique())"
   ]
  },
  {
   "cell_type": "markdown",
   "metadata": {},
   "source": [
    "### Replace Plant Code with scientific name\n",
    "We create a dictionary taxon names keyed by olant code. We then use this dictionary to add a **Taxon name** column. Note that I have guessed a few taxon names, but left most as Plantae."
   ]
  },
  {
   "cell_type": "code",
   "execution_count": 8,
   "metadata": {
    "collapsed": false
   },
   "outputs": [],
   "source": [
    "dict = {'ACAAUR': 'Acacia auriculiformis', \n",
    "        'ADEPAV': 'Plantae',\n",
    "        'ALLCAT': 'Plantae',\n",
    "        'ARUDON': 'Arundo donax',\n",
    "        'ARUGRA': 'Plantae',\n",
    "        'BIDALB': 'Plantae',\n",
    "        'BOUNDARY': 'Plantae',\n",
    "        'CENPOL': 'Plantae',\n",
    "        'CENPUR': 'Plantae',\n",
    "        'CHANIC': 'Plantae',\n",
    "        'CHRODO': 'Chromolaena odorata',\n",
    "        'CLIHIR': 'Plantae',\n",
    "        'DESINC': 'Plantae',\n",
    "        'DIESEG': 'Plantae',\n",
    "        'EPIPIN': 'Plantae',\n",
    "        'FALMOL': 'Plantae',\n",
    "        'HYPCAP': 'Plantae',\n",
    "        'IMPCON': 'Imperata conferta',\n",
    "        'LANCAM': 'Plantae',\n",
    "        'LEULEU': 'Leucaena leucocephala',\n",
    "        'MACATR': 'Plantae',\n",
    "        'MEGMAX': 'Plantae',\n",
    "        'MIKMIC': 'Plantae',\n",
    "        'MIMPUD': 'Mimosa pudica',\n",
    "        'MUNCAL': 'Plantae',\n",
    "        'NENENG': 'Plantae',\n",
    "        \"NENENG'S UNCLE\": 'Plantae',\n",
    "        'RATS TAIL': 'Plantae',\n",
    "        'RATTAN': 'Plantae',\n",
    "        'SACSPO': 'Plantae',\n",
    "        'SESCAN': 'Plantae',\n",
    "        'SORHAL': 'Plantae',\n",
    "        'SPHTRI': 'Plantae',\n",
    "        'STACAY': 'Plantae',\n",
    "        'STAJAM': 'Plantae',\n",
    "        'SURATO': 'Plantae',\n",
    "        'THUGRA': 'Plantae',\n",
    "        'TRASPA': 'Plantae',\n",
    "        'TURSUB': 'Plantae',\n",
    "        'UNKNOWN': 'Plantae'\n",
    "        }\n",
    "\n",
    "df['Taxon name']  = ''  # Create a new column and populate using dictionary  \n",
    "for index, row in df.iterrows():\n",
    "    df.set_value(index, 'Taxon name', dict[row['Plant Code']])    "
   ]
  },
  {
   "cell_type": "code",
   "execution_count": 9,
   "metadata": {
    "collapsed": false
   },
   "outputs": [
    {
     "data": {
      "text/html": [
       "<div>\n",
       "<table border=\"1\" class=\"dataframe\">\n",
       "  <thead>\n",
       "    <tr style=\"text-align: right;\">\n",
       "      <th></th>\n",
       "      <th>Date</th>\n",
       "      <th>Longitude</th>\n",
       "      <th>Latitude</th>\n",
       "      <th>Place name</th>\n",
       "      <th>Plant Code</th>\n",
       "      <th>Taxon name</th>\n",
       "    </tr>\n",
       "  </thead>\n",
       "  <tbody>\n",
       "    <tr>\n",
       "      <th>6</th>\n",
       "      <td>2015-10-14 00:00:00</td>\n",
       "      <td>134.547</td>\n",
       "      <td>7.34175</td>\n",
       "      <td>Airai, Palau</td>\n",
       "      <td>ACAAUR</td>\n",
       "      <td>Acacia auriculiformis</td>\n",
       "    </tr>\n",
       "    <tr>\n",
       "      <th>15</th>\n",
       "      <td>2015-10-09 00:00:00</td>\n",
       "      <td>134.46</td>\n",
       "      <td>7.33833</td>\n",
       "      <td>Long Island, Palau</td>\n",
       "      <td>MIKMIC</td>\n",
       "      <td>Plantae</td>\n",
       "    </tr>\n",
       "    <tr>\n",
       "      <th>...</th>\n",
       "      <td>...</td>\n",
       "      <td>...</td>\n",
       "      <td>...</td>\n",
       "      <td>...</td>\n",
       "      <td>...</td>\n",
       "      <td>...</td>\n",
       "    </tr>\n",
       "    <tr>\n",
       "      <th>393</th>\n",
       "      <td>2015-10-07 00:00:00</td>\n",
       "      <td>134.587</td>\n",
       "      <td>7.48667</td>\n",
       "      <td>Taki, Palau</td>\n",
       "      <td>ARUGRA</td>\n",
       "      <td>Plantae</td>\n",
       "    </tr>\n",
       "    <tr>\n",
       "      <th>394</th>\n",
       "      <td>2015-10-07 00:00:00</td>\n",
       "      <td>134.588</td>\n",
       "      <td>7.48415</td>\n",
       "      <td>Taki, Palau</td>\n",
       "      <td>CHRODO</td>\n",
       "      <td>Chromolaena odorata</td>\n",
       "    </tr>\n",
       "  </tbody>\n",
       "</table>\n",
       "<p>180 rows × 6 columns</p>\n",
       "</div>"
      ],
      "text/plain": [
       "                    Date Longitude Latitude          Place name Plant Code  \\\n",
       "6    2015-10-14 00:00:00   134.547  7.34175        Airai, Palau     ACAAUR   \n",
       "15   2015-10-09 00:00:00    134.46  7.33833  Long Island, Palau     MIKMIC   \n",
       "..                   ...       ...      ...                 ...        ...   \n",
       "393  2015-10-07 00:00:00   134.587  7.48667         Taki, Palau     ARUGRA   \n",
       "394  2015-10-07 00:00:00   134.588  7.48415         Taki, Palau     CHRODO   \n",
       "\n",
       "                Taxon name  \n",
       "6    Acacia auriculiformis  \n",
       "15                 Plantae  \n",
       "..                     ...  \n",
       "393                Plantae  \n",
       "394    Chromolaena odorata  \n",
       "\n",
       "[180 rows x 6 columns]"
      ]
     },
     "execution_count": 9,
     "metadata": {},
     "output_type": "execute_result"
    }
   ],
   "source": [
    "df"
   ]
  },
  {
   "cell_type": "markdown",
   "metadata": {},
   "source": [
    "### Build CSV string"
   ]
  },
  {
   "cell_type": "code",
   "execution_count": 10,
   "metadata": {
    "collapsed": false
   },
   "outputs": [],
   "source": [
    "# Header row\n",
    "s = ''\n",
    "s += 'Taxon name,Date observed,Description,Place name,'\n",
    "s += 'Latitude / y coord / northing,Longitude / x coord / easting,'\n",
    "s += 'Tags,Geoprivacy\\n'\n",
    "\n",
    "# Data rows\n",
    "for index, row in df.iterrows():\n",
    "        s += '{},{:%Y-%m-%d},\"Plant Code: {}\",\"{}\",{:f},{:f},,,\\n'.format(\n",
    "            row['Taxon name'], \n",
    "            row['Date'],\n",
    "            row['Plant Code'], # Description: store Plant Code and any other data here. \n",
    "            row['Place name'],\n",
    "            row['Latitude'], \n",
    "            row['Longitude'])\n",
    "#print(s)"
   ]
  },
  {
   "cell_type": "markdown",
   "metadata": {
    "collapsed": true
   },
   "source": [
    "### Write CSV string to a file "
   ]
  },
  {
   "cell_type": "code",
   "execution_count": 11,
   "metadata": {
    "collapsed": false
   },
   "outputs": [],
   "source": [
    "with open(\"Palau.csv\", \"w\") as text_file:\n",
    "    text_file.write(s)"
   ]
  },
  {
   "cell_type": "markdown",
   "metadata": {
    "collapsed": false
   },
   "source": [
    "### Check CSV file by reading it back as a Pandas data frame"
   ]
  },
  {
   "cell_type": "code",
   "execution_count": 12,
   "metadata": {
    "collapsed": false
   },
   "outputs": [
    {
     "data": {
      "text/html": [
       "<div>\n",
       "<table border=\"1\" class=\"dataframe\">\n",
       "  <thead>\n",
       "    <tr style=\"text-align: right;\">\n",
       "      <th></th>\n",
       "      <th>Taxon name</th>\n",
       "      <th>Date observed</th>\n",
       "      <th>Description</th>\n",
       "      <th>Place name</th>\n",
       "      <th>Latitude / y coord / northing</th>\n",
       "      <th>Longitude / x coord / easting</th>\n",
       "      <th>Tags</th>\n",
       "      <th>Geoprivacy</th>\n",
       "    </tr>\n",
       "  </thead>\n",
       "  <tbody>\n",
       "    <tr>\n",
       "      <th>0</th>\n",
       "      <td>Acacia auriculiformis</td>\n",
       "      <td>2015-10-14</td>\n",
       "      <td>Plant Code: ACAAUR</td>\n",
       "      <td>Airai, Palau</td>\n",
       "      <td>7.341750</td>\n",
       "      <td>134.546883</td>\n",
       "      <td>NaN</td>\n",
       "      <td>NaN</td>\n",
       "    </tr>\n",
       "    <tr>\n",
       "      <th>1</th>\n",
       "      <td>Plantae</td>\n",
       "      <td>2015-10-09</td>\n",
       "      <td>Plant Code: MIKMIC</td>\n",
       "      <td>Long Island, Palau</td>\n",
       "      <td>7.338333</td>\n",
       "      <td>134.460467</td>\n",
       "      <td>NaN</td>\n",
       "      <td>NaN</td>\n",
       "    </tr>\n",
       "    <tr>\n",
       "      <th>...</th>\n",
       "      <td>...</td>\n",
       "      <td>...</td>\n",
       "      <td>...</td>\n",
       "      <td>...</td>\n",
       "      <td>...</td>\n",
       "      <td>...</td>\n",
       "      <td>...</td>\n",
       "      <td>...</td>\n",
       "    </tr>\n",
       "    <tr>\n",
       "      <th>178</th>\n",
       "      <td>Plantae</td>\n",
       "      <td>2015-10-07</td>\n",
       "      <td>Plant Code: ARUGRA</td>\n",
       "      <td>Taki, Palau</td>\n",
       "      <td>7.486667</td>\n",
       "      <td>134.587167</td>\n",
       "      <td>NaN</td>\n",
       "      <td>NaN</td>\n",
       "    </tr>\n",
       "    <tr>\n",
       "      <th>179</th>\n",
       "      <td>Chromolaena odorata</td>\n",
       "      <td>2015-10-07</td>\n",
       "      <td>Plant Code: CHRODO</td>\n",
       "      <td>Taki, Palau</td>\n",
       "      <td>7.484150</td>\n",
       "      <td>134.588333</td>\n",
       "      <td>NaN</td>\n",
       "      <td>NaN</td>\n",
       "    </tr>\n",
       "  </tbody>\n",
       "</table>\n",
       "<p>180 rows × 8 columns</p>\n",
       "</div>"
      ],
      "text/plain": [
       "                Taxon name Date observed         Description  \\\n",
       "0    Acacia auriculiformis    2015-10-14  Plant Code: ACAAUR   \n",
       "1                  Plantae    2015-10-09  Plant Code: MIKMIC   \n",
       "..                     ...           ...                 ...   \n",
       "178                Plantae    2015-10-07  Plant Code: ARUGRA   \n",
       "179    Chromolaena odorata    2015-10-07  Plant Code: CHRODO   \n",
       "\n",
       "             Place name  Latitude / y coord / northing  \\\n",
       "0          Airai, Palau                       7.341750   \n",
       "1    Long Island, Palau                       7.338333   \n",
       "..                  ...                            ...   \n",
       "178         Taki, Palau                       7.486667   \n",
       "179         Taki, Palau                       7.484150   \n",
       "\n",
       "     Longitude / x coord / easting  Tags  Geoprivacy  \n",
       "0                       134.546883   NaN         NaN  \n",
       "1                       134.460467   NaN         NaN  \n",
       "..                             ...   ...         ...  \n",
       "178                     134.587167   NaN         NaN  \n",
       "179                     134.588333   NaN         NaN  \n",
       "\n",
       "[180 rows x 8 columns]"
      ]
     },
     "execution_count": 12,
     "metadata": {},
     "output_type": "execute_result"
    }
   ],
   "source": [
    "df_csv = pd.read_csv(\"Palau.csv\", index_col=False)\n",
    "df_csv"
   ]
  },
  {
   "cell_type": "markdown",
   "metadata": {},
   "source": [
    "### Write the first ten rows to a CSV for test upload,"
   ]
  },
  {
   "cell_type": "code",
   "execution_count": 13,
   "metadata": {
    "collapsed": true
   },
   "outputs": [],
   "source": [
    "df_csv = df_csv.head(10)\n",
    "with open(\"Palau_first_10_rows.csv\", \"w\") as text_file:\n",
    "    text_file.write(s)"
   ]
  },
  {
   "cell_type": "markdown",
   "metadata": {},
   "source": [
    "### Results of Test Upload\n",
    "\n",
    "#### ------------------------------------------------------------------------------------------------------------------------------------------------------------------------------------\n",
    "#### Upload the test CSV (first ten observations)\n",
    "In the Add Observations dialog click on **More import options**, then **CSV**.\n",
    "#### ------------------------------------------------------------------------------------------------------------------------------------------------------------------------------------\n",
    "\n",
    "![](upload1.png)\n",
    "![](upload2.png)\n",
    "\n",
    "#### ------------------------------------------------------------------------------------------------------------------------------------------------------------------------------------\n",
    "#### Within a few minutes after uploading the test CSV, I got an email message from iNaturalist\n",
    "If the upload fails, the email will let you know what needs to be fixed.\n",
    "#### ------------------------------------------------------------------------------------------------------------------------------------------------------------------------------------        \n",
    "\n",
    "![Email message from iNaturalist](fig1.png)\n",
    "\n",
    "#### ------------------------------------------------------------------------------------------------------------------------------------------------------------------------------------\n",
    "#### And here's what was diplayed when I clicked on the \"View your observations\" link:\n",
    "#### ------------------------------------------------------------------------------------------------------------------------------------------------------------------------------------\n",
    "\n",
    "![](fig2.png)\n",
    "\n",
    "#### ------------------------------------------------------------------------------------------------------------------------------------------------------------------------------------\n",
    "#### Note: If you scroll to the bottom of the screen, links are provided to downlad data as a CSV (spreadsheet) or KML (Google Earth/Maps).\n",
    "#### ------------------------------------------------------------------------------------------------------------------------------------------------------------------------------------\n",
    "\n",
    "![](fig3.png)\n",
    "#### ------------------------------------------------------------------------------------------------------------------------------------------------------------------------------------\n",
    "#### Here's the edit screen for one of the uploaded observations\n",
    "Note that a tag is provided to identify uploaded observations.\n",
    "#### ------------------------------------------------------------------------------------------------------------------------------------------------------------------------------------\n",
    "\n",
    "![](fig4.png)\n",
    "\n",
    "#### ------------------------------------------------------------------------------------------------------------------------------------------------------------------------------------\n",
    "#### Clean Up: Deleting observations added to iNaturalist during our test\n",
    "To delete observations added during the upload test:\n",
    "* Search for observations using the tag provided by the uploader\n",
    "* Select all \n",
    "* Delete selected\n",
    "\n",
    "#### ------------------------------------------------------------------------------------------------------------------------------------------------------------------------------------\n",
    "\n",
    "![](fig5.png)"
   ]
  },
  {
   "cell_type": "code",
   "execution_count": null,
   "metadata": {
    "collapsed": true
   },
   "outputs": [],
   "source": []
  }
 ],
 "metadata": {
  "anaconda-cloud": {},
  "kernelspec": {
   "display_name": "Python [Root]",
   "language": "python",
   "name": "Python [Root]"
  },
  "language_info": {
   "codemirror_mode": {
    "name": "ipython",
    "version": 3
   },
   "file_extension": ".py",
   "mimetype": "text/x-python",
   "name": "python",
   "nbconvert_exporter": "python",
   "pygments_lexer": "ipython3",
   "version": "3.5.2"
  }
 },
 "nbformat": 4,
 "nbformat_minor": 0
}
